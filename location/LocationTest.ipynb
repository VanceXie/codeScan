{
 "cells": [
  {
   "cell_type": "code",
   "execution_count": null,
   "outputs": [],
   "source": [
    "import cv2\n",
    "import numpy as np\n",
    "import matplotlib.pyplot as plt"
   ],
   "metadata": {
    "collapsed": false
   }
  },
  {
   "cell_type": "markdown",
   "source": [
    "# 读入图片并显示"
   ],
   "metadata": {
    "collapsed": false
   }
  },
  {
   "cell_type": "code",
   "execution_count": null,
   "outputs": [],
   "source": [
    "file = r\"D:\\Fenkx\\Fenkx - General\\AI\\Dataset\\BarCode\\My Datasets\\Factory\\772FBFU0MPZZZS02H0_NG_BarCode_Camera3_1205171258.jpg\"\n",
    "image_source = cv2.imdecode(np.fromfile(file, dtype=np.uint8), 1)\n",
    "plt.figure(dpi=150)\n",
    "plt.subplot(2, 1, 1)\n",
    "plt.xticks([])\n",
    "plt.yticks([])\n",
    "plt.imshow(cv2.cvtColor(image_source, cv2.COLOR_BGR2RGB))\n",
    "plt.subplot(2, 1, 2)\n",
    "plt.hist(image_source.ravel(), 256, [0, 256], color='r')\n",
    "plt.xlim([0, 256])\n",
    "plt.xlabel('Gray Level')\n",
    "plt.ylabel('Number of Pixels')\n",
    "plt.title('Original Histogram')\n",
    "plt.show()"
   ],
   "metadata": {
    "collapsed": false
   }
  },
  {
   "cell_type": "markdown",
   "source": [
    "# 掩模锐化"
   ],
   "metadata": {
    "collapsed": false
   }
  },
  {
   "cell_type": "code",
   "execution_count": null,
   "outputs": [],
   "source": [
    "# 高斯模糊\n",
    "blurred = cv2.GaussianBlur(image_source, (5, 5), 0, cv2.CV_64F)\n",
    "res = image_source.astype(np.float64) - blurred\n",
    "\n",
    "# 增强后的图像\n",
    "enhanced_image = image_source + res\n",
    "enhanced_image = np.clip(enhanced_image, 0, 255).astype(np.uint8)\n",
    "# cv2.imwrite(r\"C:\\Users\\vance\\Desktop\\1.png\", enhanced_image)\n",
    "plt.figure(dpi=300)\n",
    "plt.imshow(cv2.cvtColor(enhanced_image, cv2.COLOR_BGR2RGB))\n",
    "plt.show()"
   ],
   "metadata": {
    "collapsed": false
   }
  },
  {
   "cell_type": "markdown",
   "source": [
    "# 图像金字塔"
   ],
   "metadata": {
    "collapsed": false
   }
  },
  {
   "cell_type": "code",
   "execution_count": null,
   "outputs": [],
   "source": [
    "from tools.ImageOperate import pyrdown_multithread\n",
    "\n",
    "image_pydown = pyrdown_multithread(enhanced_image)\n",
    "image_pydown_s = image_pydown[-1]\n",
    "\n",
    "print(image_pydown_s.shape)\n",
    "\n",
    "plt.figure(dpi=300)\n",
    "plt.imshow(cv2.cvtColor(image_pydown_s, cv2.COLOR_BGR2RGB))\n",
    "plt.show()\n",
    "# plt.subplot(2, 1, 1)\n",
    "# plt.xticks([])\n",
    "# plt.yticks([])\n",
    "# plt.imshow(image_pydown_s)\n",
    "#\n",
    "# plt.subplot(2, 1, 2)\n",
    "# plt.hist(image_pydown_s.ravel(), 256, [0, 256], color='r')\n",
    "# plt.xlim([0, 256])\n",
    "# plt.xlabel('Gray Level')\n",
    "# plt.ylabel('Number of Pixels')\n",
    "# plt.title('Pydown Histogram')\n",
    "# plt.show()"
   ],
   "metadata": {
    "collapsed": false
   }
  },
  {
   "cell_type": "code",
   "execution_count": null,
   "outputs": [],
   "source": [
    "# 高斯模糊\n",
    "blurred1 = cv2.GaussianBlur(image_pydown_s, (5, 5), 0, cv2.CV_64F)\n",
    "res1 = image_pydown_s.astype(np.float64) - blurred1\n",
    "\n",
    "# 增强后的图像\n",
    "image_pydown_s = image_pydown_s + res1\n",
    "image_pydown_s = np.clip(image_pydown_s, 0, 255).astype(np.uint8)\n",
    "plt.figure(dpi=300)\n",
    "plt.imshow(cv2.cvtColor(image_pydown_s, cv2.COLOR_BGR2RGB))\n",
    "plt.show()"
   ],
   "metadata": {
    "collapsed": false
   }
  },
  {
   "cell_type": "markdown",
   "source": [
    "# 去除异常亮块"
   ],
   "metadata": {
    "collapsed": false
   }
  },
  {
   "cell_type": "markdown",
   "source": [
    "## 阈值分割"
   ],
   "metadata": {
    "collapsed": false
   }
  },
  {
   "cell_type": "code",
   "execution_count": null,
   "outputs": [],
   "source": [
    "image_gray = cv2.cvtColor(image_pydown_s, cv2.COLOR_BGR2GRAY)\n",
    "ret, image_threshold = cv2.threshold(image_gray, 0, 255, cv2.THRESH_BINARY + cv2.THRESH_OTSU)\n",
    "plt.imshow(image_threshold, 'gray')\n",
    "plt.show()"
   ],
   "metadata": {
    "collapsed": false
   }
  },
  {
   "cell_type": "markdown",
   "source": [
    "## 直线检测"
   ],
   "metadata": {
    "collapsed": false
   }
  },
  {
   "cell_type": "code",
   "execution_count": null,
   "outputs": [],
   "source": [
    "area_threshold = int(image_gray.shape[0] * image_gray.shape[1] * 0.015)\n",
    "print(\"area_threshold:{}\".format(area_threshold))\n",
    "\n",
    "contours1, hierarchy1 = cv2.findContours(image_threshold, cv2.RETR_EXTERNAL, cv2.CHAIN_APPROX_SIMPLE)\n",
    "\n",
    "lsd = cv2.createLineSegmentDetector()\n",
    "lines_list1 = []\n",
    "\n",
    "for contour1 in contours1:\n",
    "\tx, y, w, h = cv2.boundingRect(contour1)\n",
    "\tif cv2.contourArea(contour1) > area_threshold:\n",
    "\t\timage_gray_part = image_gray[y:y + h, x:x + w]\n",
    "\t\tret1, image_threshold1 = cv2.threshold(image_gray_part, 0, 255, cv2.THRESH_OTSU + cv2.THRESH_BINARY)\n",
    "\t\t# detect lines1\n",
    "\t\tlines1, width, prec, nfa = lsd.detect(image_threshold1)\n",
    "\t\tif lines1 is not None:\n",
    "\t\t\tif lines1.shape[0] < 70:\n",
    "\t\t\t\tcv2.drawContours(image_gray, [contour1], -1, 0, cv2.FILLED)\n",
    "\t\t\telse:\n",
    "\t\t\t\tpass\n",
    "\t\t\tlines_list1.append(lines1)\n",
    "\telse:\n",
    "\t\tcv2.drawContours(image_gray, [contour1], -1, 0, cv2.FILLED)\n",
    "# image_draw = cv2.minAreaRect([contours1],(0, 0, 255))\n",
    "plt.xticks([])\n",
    "plt.yticks([])\n",
    "plt.imshow(image_gray, 'gray')\n",
    "plt.show()"
   ],
   "metadata": {
    "collapsed": false
   }
  },
  {
   "cell_type": "markdown",
   "source": [
    "# 灰度重映射"
   ],
   "metadata": {
    "collapsed": false
   }
  },
  {
   "cell_type": "code",
   "execution_count": null,
   "outputs": [],
   "source": [
    "imax = np.max(image_gray)\n",
    "image_equalized = (255 ** (image_gray / imax)).astype(np.uint8)\n",
    "plt.figure(dpi=200)\n",
    "plt.subplot(2, 2, 1)\n",
    "plt.hist(image_gray.ravel(), 256, [0, 256], color='r')\n",
    "plt.subplot(2, 2, 2)\n",
    "plt.hist(image_equalized.ravel(), 256, [0, 256], color='r')\n",
    "\n",
    "plt.subplot(2, 2, 3)\n",
    "plt.imshow(image_gray, 'gray')\n",
    "plt.subplot(2, 2, 4)\n",
    "plt.imshow(image_equalized, 'gray')\n",
    "plt.show()"
   ],
   "metadata": {
    "collapsed": false
   }
  },
  {
   "cell_type": "markdown",
   "source": [
    "# 条码区域定位"
   ],
   "metadata": {
    "collapsed": false
   }
  },
  {
   "cell_type": "code",
   "execution_count": null,
   "outputs": [],
   "source": [
    "r, t = cv2.threshold(image_equalized, 0, 255, cv2.THRESH_BINARY + cv2.THRESH_OTSU)\n",
    "plt.figure(dpi=300)\n",
    "plt.imshow(t, 'gray')\n",
    "plt.show()"
   ],
   "metadata": {
    "collapsed": false
   }
  },
  {
   "cell_type": "code",
   "execution_count": null,
   "outputs": [],
   "source": [
    "from LineCluster import find_barcode_by_cluster, draw_clusters, cluster_lines\n",
    "\n",
    "clusters = find_barcode_by_cluster(t, 0.5)\n",
    "# lsd = cv2.createLineSegmentDetector()\n",
    "# lines, width, prec, nfa = lsd.detect(t)\n",
    "# lines =np.reshape(lines,(-1,4))\n",
    "# clusters = cluster_lines(lines, eps=1)\n",
    "\n",
    "image_drawed = draw_clusters(image_pydown_s, clusters)\n",
    "\n",
    "plt.figure(dpi=300)\n",
    "plt.imshow(cv2.cvtColor(image_drawed, cv2.COLOR_BGR2RGB))\n",
    "plt.show()"
   ],
   "metadata": {
    "collapsed": false
   }
  },
  {
   "cell_type": "code",
   "execution_count": null,
   "outputs": [],
   "source": [
    "kernel = np.ones((3, 3), np.uint8)\n",
    "closing = cv2.morphologyEx(t, cv2.MORPH_OPEN, kernel)  #闭运算\n",
    "closing = cv2.morphologyEx(t, cv2.MORPH_CLOSE, kernel)  #闭运算\n",
    "\n",
    "contours1, hierarchy1 = cv2.findContours(closing, cv2.RETR_EXTERNAL, cv2.CHAIN_APPROX_SIMPLE)\n",
    "\n",
    "lines_list2 = []\n",
    "for contour2 in contours1:\n",
    "\tx, y, w, h = cv2.boundingRect(contour2)\n",
    "\tif cv2.contourArea(contour2) > area_threshold:\n",
    "\n",
    "\t\timage_gray_part = image_gray[y:y + h, x:x + w]\n",
    "\n",
    "\t\tret2, image_threshold2 = cv2.threshold(image_gray_part, 0, 255, cv2.THRESH_OTSU + cv2.THRESH_BINARY)\n",
    "\n",
    "\t\t# detect lines_list\n",
    "\t\tlines, width, prec, nfa = lsd.detect(image_threshold2)\n",
    "\t\tif lines is not None:\n",
    "\t\t\tif lines.shape[0] < 70:\n",
    "\t\t\t\tcv2.drawContours(image_gray, [contour2], -1, 0, cv2.FILLED)\n",
    "\t\t\telse:\n",
    "\t\t\t\t# for line in lines:\n",
    "\t\t\t\t# \t# 获取线段的起点和终点坐标\n",
    "\t\t\t\t# \tx1, y1, x2, y2 = line[0].astype(int)\n",
    "\t\t\t\t# \t# 绘制线段\n",
    "\t\t\t\t# \tcv2.line(image_pydown_s, (x + x1, y + y1), (x + x2, y + y2), (0, 255, 0), 2)\n",
    "\t\t\t\tcv2.drawContours(image_pydown_s, [contour2], -1, (0, 255, 0, 1))\n",
    "\t\t\tlines_list2.append(lines)\n",
    "\telse:\n",
    "\n",
    "\t\tcv2.drawContours(image_gray, [contour2], -1, 0, cv2.FILLED)\n",
    "plt.figure(dpi=300)\n",
    "plt.xticks([])\n",
    "plt.yticks([])\n",
    "plt.imshow(cv2.cvtColor(image_pydown_s, cv2.COLOR_BGR2RGB))\n",
    "plt.show()\n"
   ],
   "metadata": {
    "collapsed": false
   }
  },
  {
   "cell_type": "code",
   "execution_count": 8,
   "outputs": [],
   "source": [
    "import cv2\n",
    "import numpy as np\n",
    "\n",
    "\n",
    "def build_edge_preserving_pyramid(image, levels):\n",
    "\t# 创建高斯金字塔\n",
    "\tgaussian_pyramid = [image]\n",
    "\tfor _ in range(levels - 1):\n",
    "\t\timage = cv2.pyrDown(image)\n",
    "\t\tgaussian_pyramid.append(image)\n",
    "\n",
    "\t# 创建拉普拉斯金字塔\n",
    "\tlaplacian_pyramid = [gaussian_pyramid[levels - 1]]\n",
    "\tfor i in range(levels - 2, -1, -1):\n",
    "\t\texpanded = cv2.pyrUp(gaussian_pyramid[i + 1], dstsize=gaussian_pyramid[i].shape[:2][::-1])\n",
    "\t\tlaplacian = cv2.subtract(gaussian_pyramid[i], expanded)\n",
    "\t\tlaplacian_pyramid.append(laplacian)\n",
    "\n",
    "\treturn gaussian_pyramid, laplacian_pyramid\n",
    "\n",
    "\n",
    "def reconstruct_image(gaussian_pyramid, laplacian_pyramid, levels, target_level):\n",
    "\t# 合并拉普拉斯金字塔和高斯金字塔\n",
    "\treconstructed_image = cv2.add(gaussian_pyramid[target_level], laplacian_pyramid[levels - target_level - 1])\n",
    "\treturn reconstructed_image\n",
    "\n",
    "\n",
    "# 读取图像\n",
    "image = cv2.imread(r\"D:\\Fenkx\\Fenkx - General\\AI\\Dataset\\BarCode\\My Datasets\\Factory\\772FBFU0MPZZZS02H0_NG_BarCode_Camera3_1205171258.jpg\")\n",
    "\n",
    "# 设定金字塔级别\n",
    "levels = 5\n",
    "\n",
    "# 建立保留边缘信息的图像金字塔\n",
    "gaussian_pyramid, laplacian_pyramid = build_edge_preserving_pyramid(image, levels)\n",
    "\n",
    "# 指定层级，重建图像\n",
    "target_level = 3\n",
    "reconstructed_image = reconstruct_image(gaussian_pyramid, laplacian_pyramid, levels, target_level)\n",
    "\n",
    "# 显示结果\n",
    "cv2.namedWindow('Reconstructed Image', cv2.WINDOW_NORMAL | cv2.WINDOW_KEEPRATIO)\n",
    "cv2.imshow('Reconstructed Image', reconstructed_image)\n",
    "cv2.waitKey(0)\n",
    "cv2.destroyAllWindows()\n"
   ],
   "metadata": {
    "collapsed": false,
    "ExecuteTime": {
     "end_time": "2023-06-30T03:21:40.975257900Z",
     "start_time": "2023-06-30T03:21:38.324811200Z"
    }
   }
  },
  {
   "cell_type": "code",
   "execution_count": 14,
   "outputs": [
    {
     "name": "stdout",
     "output_type": "stream",
     "text": [
      "[[0.00327177]\n",
      " [0.07425046]\n",
      " [0.8482239 ]\n",
      " [0.07425046]\n",
      " [0.00327177]]\n"
     ]
    }
   ],
   "source": [
    "# 创建高斯卷积核\n",
    "sigma = 0.4\n",
    "size = int(2 * np.ceil(3 * sigma) + 1)\n",
    "kernel_gaussian = cv2.getGaussianKernel(size, sigma)\n",
    "\n",
    "# 创建 LoG 卷积核\n",
    "kernel_log = cv2.sepFilter2D(kernel_gaussian, -1, kernel_gaussian.T, kernel_gaussian)\n",
    "\n",
    "print(kernel_log)\n"
   ],
   "metadata": {
    "collapsed": false,
    "ExecuteTime": {
     "end_time": "2023-06-30T03:41:50.772090400Z",
     "start_time": "2023-06-30T03:41:50.761498900Z"
    }
   }
  }
 ],
 "metadata": {
  "kernelspec": {
   "display_name": "Python 3",
   "language": "python",
   "name": "python3"
  },
  "language_info": {
   "codemirror_mode": {
    "name": "ipython",
    "version": 2
   },
   "file_extension": ".py",
   "mimetype": "text/x-python",
   "name": "python",
   "nbconvert_exporter": "python",
   "pygments_lexer": "ipython2",
   "version": "2.7.6"
  }
 },
 "nbformat": 4,
 "nbformat_minor": 0
}
