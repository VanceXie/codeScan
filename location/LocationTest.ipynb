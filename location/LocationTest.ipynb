{
 "cells": [
  {
   "cell_type": "code",
   "execution_count": null,
   "outputs": [],
   "source": [
    "import cv2\n",
    "import numpy as np\n",
    "from tools.ImageOperate import clahe_equalize, hist_cut\n",
    "from location.GradMorph import find_barcode_by_diff\n",
    "import matplotlib.pyplot as plt"
   ],
   "metadata": {
    "collapsed": false
   }
  },
  {
   "cell_type": "markdown",
   "source": [
    "# 读入图片并显示"
   ],
   "metadata": {
    "collapsed": false
   }
  },
  {
   "cell_type": "code",
   "execution_count": null,
   "outputs": [],
   "source": [
    "file = r\"D:\\Fenkx\\Fenkx - General\\AI\\Dataset\\BarCode\\My Datasets\\Test_Label\\C1\\5B2FCER6NDZZZS0210_NG_BarCode_Camera3_0211121738.jpg\"\n",
    "image = cv2.imdecode(np.fromfile(file, dtype=np.uint8), 1)\n",
    "plt.figure(dpi=300)\n",
    "plt.xticks([])\n",
    "plt.yticks([])\n",
    "plt.imshow(cv2.cvtColor(image, cv2.COLOR_BGR2RGB))"
   ],
   "metadata": {
    "collapsed": false
   }
  },
  {
   "cell_type": "markdown",
   "source": [
    "## 显示原图灰度直方图"
   ],
   "metadata": {
    "collapsed": false
   }
  },
  {
   "cell_type": "code",
   "execution_count": null,
   "outputs": [],
   "source": [
    "# 绘制原始灰度直方图\n",
    "plt.hist(image.ravel(), 256, [0, 256], color='r')\n",
    "plt.xlim([0, 256])\n",
    "plt.xlabel('Gray Level')\n",
    "plt.ylabel('Number of Pixels')\n",
    "plt.title('Original Histogram')\n",
    "plt.show()"
   ],
   "metadata": {
    "collapsed": false
   }
  },
  {
   "cell_type": "markdown",
   "source": [
    "# 减小尺寸"
   ],
   "metadata": {
    "collapsed": false
   }
  },
  {
   "cell_type": "code",
   "execution_count": null,
   "outputs": [],
   "source": [
    "from tools.ImageOperate import pyrdown\n"
   ],
   "metadata": {
    "collapsed": false
   }
  },
  {
   "cell_type": "markdown",
   "source": [
    "# 中值滤波，去除异常亮点"
   ],
   "metadata": {
    "collapsed": false
   }
  },
  {
   "cell_type": "code",
   "execution_count": null,
   "outputs": [],
   "source": [
    "# 去除异常亮点,中值滤波\n",
    "image_blur = cv2.medianBlur(image, 13)\n",
    "plt.figure(dpi=300)\n",
    "plt.xticks([])\n",
    "plt.yticks([])\n",
    "plt.imshow(cv2.cvtColor(image_blur, cv2.COLOR_BGR2RGB))"
   ],
   "metadata": {
    "collapsed": false
   }
  },
  {
   "cell_type": "markdown",
   "source": [
    "## 显示滤波后的灰度直方图"
   ],
   "metadata": {
    "collapsed": false
   }
  },
  {
   "cell_type": "code",
   "execution_count": null,
   "outputs": [],
   "source": [
    "# 绘制去除部分直方图后的灰度直方图\n",
    "max_index = np.argmax(image_blur)\n",
    "print(np.unravel_index(max_index, image_blur.shape))\n",
    "plt.hist(image_blur.ravel(), np.max(image_blur) + 1, [0, np.max(image_blur) + 1], color='g')\n",
    "# plt.xlim([0, 256])\n",
    "plt.xlabel('Gray Level')\n",
    "plt.ylabel('Number of Pixels')\n",
    "plt.title('cutted Histogram')\n",
    "plt.show()"
   ],
   "metadata": {
    "collapsed": false
   }
  },
  {
   "cell_type": "markdown",
   "source": [
    "# 灰度范围映射到【0，255】"
   ],
   "metadata": {
    "collapsed": false
   }
  },
  {
   "cell_type": "code",
   "execution_count": null,
   "outputs": [],
   "source": [
    "image_norm = cv2.normalize(image_blur, None, 0, 255, cv2.NORM_MINMAX)\n",
    "plt.figure(dpi=300)\n",
    "plt.xticks([])\n",
    "plt.yticks([])\n",
    "plt.imshow(cv2.cvtColor(image_blur, cv2.COLOR_BGR2RGB))"
   ],
   "metadata": {
    "collapsed": false
   }
  },
  {
   "cell_type": "markdown",
   "source": [
    "## 显示滤波后的灰度直方图"
   ],
   "metadata": {
    "collapsed": false
   }
  },
  {
   "cell_type": "code",
   "execution_count": null,
   "outputs": [],
   "source": [
    "plt.hist(image_norm.ravel(), 256, [0, 256], color='r')\n",
    "plt.show()"
   ],
   "metadata": {
    "collapsed": false
   }
  },
  {
   "cell_type": "markdown",
   "source": [],
   "metadata": {
    "collapsed": false
   }
  },
  {
   "cell_type": "code",
   "execution_count": null,
   "outputs": [],
   "source": [
    "from tools.ImageOperate import hist_remap\n",
    "\n",
    "image_remap = hist_remap(image_norm)\n",
    "plt.imshow(image_remap)\n",
    "plt.hist(image_remap.ravel(), 256, [0, 256], color='r')\n",
    "plt.show()"
   ],
   "metadata": {
    "collapsed": false
   }
  },
  {
   "cell_type": "code",
   "execution_count": null,
   "outputs": [],
   "source": [
    "image = clahe_equalize(image)\n",
    "result = find_barcode_by_diff(image)\n",
    "# plt.imshow(result)\n",
    "cv2.namedWindow(\"Barcode detection\", cv2.WINDOW_NORMAL)\n",
    "# Display the image\n",
    "cv2.imshow(\"Barcode detection\", result)\n",
    "cv2.waitKey(0)\n",
    "cv2.destroyAllWindows()"
   ],
   "metadata": {
    "collapsed": false
   }
  },
  {
   "cell_type": "code",
   "execution_count": null,
   "outputs": [],
   "source": [
    "import os\n",
    "\n",
    "# Load the image\n",
    "path = r'D:\\Fenkx\\Fenkx - General\\Ubei\\Test_Label1'\n",
    "for index, item in enumerate(os.listdir(path)):\n",
    "\tfile = os.path.join(path, item)\n",
    "\tif os.path.isfile(file):\n",
    "\t\timage = cv2.imdecode(np.fromfile(file, dtype=np.uint8), 1)  # 支持中文路径的文件读入\n",
    "\t\timage = clahe_equalize(image)\n",
    "\t\ttry:\n",
    "\t\t\tresult = find_barcode_by_diff(image)\n",
    "\t\texcept:\n",
    "\t\t\tpass\n",
    "\t\tfinally:\n",
    "\t\t\tfilename = os.path.splitext(item)\n",
    "\t\t\tnew_name = filename[0] + filename[-1]\n",
    "\t\t\tresult_path = os.path.join(path, 'result_GradMorph')\n",
    "\t\t\tif not os.path.exists(result_path):\n",
    "\t\t\t\tos.makedirs(result_path)\n",
    "\t\t\tcv2.imwrite(os.path.join(result_path, new_name), result)\n",
    "print('finished!')\n"
   ],
   "metadata": {
    "collapsed": false
   }
  },
  {
   "cell_type": "code",
   "execution_count": null,
   "outputs": [],
   "source": [],
   "metadata": {
    "collapsed": false
   }
  }
 ],
 "metadata": {
  "kernelspec": {
   "display_name": "Python 3",
   "language": "python",
   "name": "python3"
  },
  "language_info": {
   "codemirror_mode": {
    "name": "ipython",
    "version": 2
   },
   "file_extension": ".py",
   "mimetype": "text/x-python",
   "name": "python",
   "nbconvert_exporter": "python",
   "pygments_lexer": "ipython2",
   "version": "2.7.6"
  }
 },
 "nbformat": 4,
 "nbformat_minor": 0
}
