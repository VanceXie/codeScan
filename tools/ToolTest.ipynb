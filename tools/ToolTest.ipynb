{
 "cells": [
  {
   "cell_type": "code",
   "execution_count": 1,
   "outputs": [],
   "source": [
    "import os\n",
    "import cv2\n",
    "import numpy as np\n",
    "import matplotlib.pyplot as plt\n",
    "from tools.ImageOperate import hist_cut, hist_remap, clahe_equalize, pyrdown, pyrdown_multithread\n",
    "from location.LineCluster import find_barcode_by_cluster"
   ],
   "metadata": {
    "collapsed": false,
    "ExecuteTime": {
     "end_time": "2023-06-20T07:46:04.007683600Z",
     "start_time": "2023-06-20T07:46:02.544671800Z"
    }
   }
  },
  {
   "cell_type": "code",
   "execution_count": null,
   "outputs": [],
   "source": [
    "file = r\"D:\\Fenkx\\Fenkx - General\\AI\\Dataset\\BarCode\\My Datasets\\Factory\\1027150650_NG_BarCode_Camera3_1027150651.jpg\"\n",
    "image_source = cv2.imdecode(np.fromfile(file, dtype=np.uint8), 1)\n",
    "image_pydown = pyrdown_multithread(image_source)\n",
    "print(image_pydown[-1].shape)\n",
    "plt.figure(dpi=300)\n",
    "# plt.subplot(2, 1, 1)\n",
    "plt.imshow(image_pydown[-1])\n",
    "# plt.subplot(2, 1, 2)\n",
    "# plt.hist(image_pydown[-1].ravel(), np.max(image_pydown[-1]), [0, np.max(image_pydown[-1])])\n",
    "plt.show()"
   ],
   "metadata": {
    "collapsed": false
   }
  },
  {
   "cell_type": "code",
   "execution_count": null,
   "outputs": [],
   "source": [
    "image_gray = cv2.cvtColor(image_pydown[-1], cv2.COLOR_BGR2GRAY)\n",
    "ret, image_threshold = cv2.threshold(image_gray, 0, 255, cv2.THRESH_BINARY + cv2.THRESH_OTSU)\n",
    "# ret, image_thread = cv2.threshold(image_gray, 25, 255, cv2.THRESH_BINARY)\n",
    "# 应用自适应阈值化，将图像转换为二值图像\n",
    "# image_threshold = cv2.adaptiveThreshold(image_gray, 255, cv2.ADAPTIVE_THRESH_MEAN_C, cv2.THRESH_BINARY, 5, 0)\n",
    "plt.figure(dpi=300)\n",
    "plt.imshow(image_threshold, 'gray')\n",
    "plt.show()"
   ],
   "metadata": {
    "collapsed": false
   }
  },
  {
   "cell_type": "code",
   "execution_count": null,
   "outputs": [],
   "source": [
    "from tools.ImageOperate import get_rect_corner_ave\n",
    "\n",
    "contours, hierarchy = cv2.findContours(image_threshold, cv2.RETR_EXTERNAL, cv2.CHAIN_APPROX_SIMPLE)\n",
    "image_draw = np.copy(image_pydown[-1])\n",
    "# image_draw = cv2.drawContours(image_pydown[-1], contours, -1, (0, 255, 0), 1)\n",
    "\n",
    "lsd = cv2.createLineSegmentDetector()\n",
    "lines_list = []\n",
    "for contour in contours:\n",
    "\tx, y, w, h = cv2.boundingRect(contour)\n",
    "\n",
    "\tif contour.shape[0] > 50:\n",
    "\t\t# cv2.rectangle(image_draw, (x, y), (x + w, y + h), (0, 0, 255), 1)\n",
    "\n",
    "\t\timage_gray_part = image_gray[y:y + h, x:x + w]\n",
    "\t\t# image_threshold1 = cv2.adaptiveThreshold(image_gray_part, 255, cv2.ADAPTIVE_THRESH_MEAN_C, cv2.THRESH_BINARY, 2*h+1, 0)\n",
    "\t\tret1, image_threshold1 = cv2.threshold(image_gray_part, 0, 255, cv2.THRESH_OTSU + cv2.THRESH_BINARY)\n",
    "\t\t# detect lines_list\n",
    "\t\tlines, width, prec, nfa = lsd.detect(image_threshold1)\n",
    "\t\tif lines.shape[0] < 70:\n",
    "\t\t\tcolor = get_rect_corner_ave(image_draw, x, y, w, h)\n",
    "\t\t\tcv2.drawContours(image_draw, [contour], -1,0, cv2.FILLED)\n",
    "\t\tlines_list.append(lines)\n",
    "\t\t# # 遍历线段列表\n",
    "\t\t# try:\n",
    "\t\t# \tfor line in lines:\n",
    "\t\t# \t\t# 获取线段的起点和终点坐标\n",
    "\t\t# \t\tx1, y1, x2, y2 = line[0].astype(int)\n",
    "\t\t# \t\t# 绘制线段\n",
    "\t\t# \t\tcv2.line(image_draw, (x + x1, y + y1), (x + x2, y + y2), (0, 255, 0), 2)\n",
    "\t\t# except:\n",
    "\t\t# \tpass\n",
    "\n",
    "\telse:\n",
    "\t\tcolor = get_rect_corner_ave(image_draw, x, y, w, h)\n",
    "\t\tcv2.drawContours(image_draw, [contour], -1, color, cv2.FILLED)\n",
    "# image_draw = cv2.minAreaRect([contours],(0, 0, 255))\n",
    "plt.figure(dpi=300)\n",
    "plt.xticks([])\n",
    "plt.yticks([])\n",
    "plt.imshow(cv2.cvtColor(image_draw, cv2.COLOR_BGR2RGB))\n",
    "plt.show()"
   ],
   "metadata": {
    "collapsed": false
   }
  },
  {
   "cell_type": "code",
   "execution_count": null,
   "outputs": [],
   "source": [],
   "metadata": {
    "collapsed": false
   }
  },
  {
   "cell_type": "code",
   "execution_count": null,
   "outputs": [],
   "source": [
    "image_cut = hist_cut(image_pydown[-1], 600)\n",
    "plt.figure(dpi=300)\n",
    "plt.subplot(2, 1, 1)\n",
    "plt.imshow(image_cut)\n",
    "plt.subplot(2, 1, 2)\n",
    "plt.hist(image_cut.ravel(), np.max(image_cut), [0, np.max(image_cut)])\n",
    "plt.show()"
   ],
   "metadata": {
    "collapsed": false
   }
  },
  {
   "cell_type": "code",
   "execution_count": null,
   "outputs": [],
   "source": [
    "# Contrast stretching\n",
    "# equ = cv2.normalize(image_cut, None, 0, 255, cv2.NORM_MINMAX)\n",
    "\n",
    "# Gamma correction\n",
    "gamma = np.log(255) / np.log(np.max(image_draw))\n",
    "equ = np.power(image_draw, gamma).astype(np.uint8)\n",
    "\n",
    "# 绘制原始图像的灰度直方图和更改分布后的灰度直方图\n",
    "plt.figure(dpi=200)\n",
    "plt.subplot(2, 2, 1)\n",
    "plt.hist(image_draw.ravel(), np.max(image_draw), [0, np.max(image_draw)])\n",
    "plt.subplot(2, 2, 2)\n",
    "plt.hist(equ.ravel(), np.max(equ), [0, np.max(equ)])\n",
    "\n",
    "plt.subplot(2, 2, 3)\n",
    "plt.imshow(cv2.cvtColor(image_draw, cv2.COLOR_BGR2RGB))\n",
    "plt.subplot(2, 2, 4)\n",
    "plt.imshow(cv2.cvtColor(equ, cv2.COLOR_BGR2RGB))\n",
    "plt.show()\n"
   ],
   "metadata": {
    "collapsed": false
   }
  },
  {
   "cell_type": "code",
   "execution_count": null,
   "outputs": [],
   "source": [
    "from location.LineCluster import find_barcode_by_cluster, draw_clusters\n",
    "\n",
    "clusters = find_barcode_by_cluster(equ, 20)\n",
    "image_drawed = draw_clusters(equ, clusters)\n",
    "plt.figure(dpi=300)\n",
    "plt.imshow(cv2.cvtColor(image_drawed, cv2.COLOR_BGR2RGB))\n",
    "plt.show()"
   ],
   "metadata": {
    "collapsed": false
   }
  },
  {
   "cell_type": "code",
   "execution_count": null,
   "outputs": [],
   "source": [
    "# Adaptive histogram equalization:\n",
    "# Load the image\n",
    "path = r'D:\\Fenkx\\Fenkx - General\\AI\\Dataset\\BarCode\\My Datasets\\Factory'\n",
    "result_path = r'C:\\Users\\fy.xie\\Desktop\\temp\\image_equ'\n",
    "for index, item in enumerate(os.listdir(path)):\n",
    "\tfile = os.path.join(path, item)\n",
    "\tif os.path.isfile(file):\n",
    "\t\timage_source = cv2.imdecode(np.fromfile(file, dtype=np.uint8), 1)\n",
    "\t\ttry:\n",
    "\t\t\timage_pydown = pyrdown_multithread(image_source)\n",
    "\t\t\timage_cut = hist_cut(image_pydown[-1], 500)\n",
    "\t\t\tgamma = np.log(255) / np.log(np.max(image_cut))\n",
    "\t\t\tequ = np.power(image_cut, gamma).astype(np.uint8)\n",
    "\t\tfinally:\n",
    "\t\t\t# result_path = os.path.join(path, 'image_equ')\n",
    "\t\t\tif not os.path.exists(result_path):\n",
    "\t\t\t\tos.makedirs(result_path)\n",
    "\t\t\tcv2.imwrite(os.path.join(result_path, item), equ)\n",
    "print('finished!')\n"
   ],
   "metadata": {
    "collapsed": false
   }
  }
 ],
 "metadata": {
  "kernelspec": {
   "display_name": "Python 3",
   "language": "python",
   "name": "python3"
  },
  "language_info": {
   "codemirror_mode": {
    "name": "ipython",
    "version": 2
   },
   "file_extension": ".py",
   "mimetype": "text/x-python",
   "name": "python",
   "nbconvert_exporter": "python",
   "pygments_lexer": "ipython2",
   "version": "2.7.6"
  }
 },
 "nbformat": 4,
 "nbformat_minor": 0
}
