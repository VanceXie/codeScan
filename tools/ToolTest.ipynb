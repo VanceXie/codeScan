{
 "cells": [
  {
   "cell_type": "code",
   "execution_count": 1,
   "outputs": [
    {
     "name": "stdout",
     "output_type": "stream",
     "text": [
      "[6 5 4 3 2 1]\n",
      "[4 3 2 1]\n",
      "[120  60  24   6]\n"
     ]
    }
   ],
   "source": [
    "import numpy as np\n",
    "\n",
    "x = np.arange(6, 0, -1)\n",
    "arr1 = x[:-2]\n",
    "arr2 = x[1:-1]\n",
    "arr3 = x[2:]\n",
    "# 使用乘法操作计算每个数组的元素积\n",
    "result = arr1 * arr2 * arr3\n",
    "print(x)\n",
    "print(x[-4:])\n",
    "print(result)\n"
   ],
   "metadata": {
    "collapsed": false,
    "ExecuteTime": {
     "end_time": "2023-06-01T05:16:06.474326700Z",
     "start_time": "2023-06-01T05:16:06.240856100Z"
    }
   }
  },
  {
   "cell_type": "code",
   "execution_count": null,
   "outputs": [],
   "source": [],
   "metadata": {
    "collapsed": false
   }
  }
 ],
 "metadata": {
  "kernelspec": {
   "display_name": "Python 3",
   "language": "python",
   "name": "python3"
  },
  "language_info": {
   "codemirror_mode": {
    "name": "ipython",
    "version": 2
   },
   "file_extension": ".py",
   "mimetype": "text/x-python",
   "name": "python",
   "nbconvert_exporter": "python",
   "pygments_lexer": "ipython2",
   "version": "2.7.6"
  }
 },
 "nbformat": 4,
 "nbformat_minor": 0
}
