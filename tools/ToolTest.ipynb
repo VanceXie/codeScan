{
 "cells": [
  {
   "cell_type": "code",
   "execution_count": null,
   "outputs": [],
   "source": [
    "import os\n",
    "import cv2\n",
    "import numpy as np\n",
    "import matplotlib.pyplot as plt\n",
    "from tools.ImageOperate import hist_cut, hist_remap, clahe_equalize, pyr_down"
   ],
   "metadata": {
    "collapsed": false
   }
  },
  {
   "cell_type": "code",
   "execution_count": null,
   "outputs": [],
   "source": [
    "file = r\"D:\\Fenkx\\Fenkx - General\\AI\\Dataset\\BarCode\\My Datasets\\Factory\\1216121041_NG_BarCode_Camera3_1216121042.jpg\"\n",
    "image_source = cv2.imdecode(np.fromfile(file, dtype=np.uint8), 1)\n",
    "image_pydown = pyr_down(image_source)\n",
    "print(image_pydown[-1].shape)\n",
    "# plt.figure(dpi=200)\n",
    "plt.subplot(2, 1, 1)\n",
    "plt.imshow(image_pydown[-1])\n",
    "plt.subplot(2, 1, 2)\n",
    "plt.hist(image_pydown[-1].ravel(), np.max(image_pydown[-1]), [0, np.max(image_pydown[-1])])\n",
    "plt.show()"
   ],
   "metadata": {
    "collapsed": false
   }
  },
  {
   "cell_type": "code",
   "execution_count": null,
   "outputs": [],
   "source": [
    "image_cut = hist_cut(image_pydown[-1], 750)\n",
    "plt.subplot(2, 1, 1)\n",
    "plt.imshow(image_cut)\n",
    "plt.subplot(2, 1, 2)\n",
    "plt.hist(image_cut.ravel(), np.max(image_cut), [0, np.max(image_cut)])\n",
    "plt.show()"
   ],
   "metadata": {
    "collapsed": false
   }
  },
  {
   "cell_type": "code",
   "execution_count": null,
   "outputs": [],
   "source": [
    "# Contrast stretching\n",
    "# equ = cv2.normalize(image_cut, None, 0, 255, cv2.NORM_MINMAX)\n",
    "\n",
    "# Gamma correction\n",
    "gamma = np.log(255) / np.log(np.max(image_cut))\n",
    "equ = np.power(image_cut, gamma).astype(np.uint8)\n",
    "\n",
    "# 绘制原始图像的灰度直方图和更改分布后的灰度直方图\n",
    "plt.figure(dpi=200)\n",
    "plt.subplot(2, 2, 1)\n",
    "plt.hist(image_cut.ravel(), np.max(image_cut), [0, np.max(image_cut)])\n",
    "plt.subplot(2, 2, 2)\n",
    "plt.hist(equ.ravel(), np.max(equ), [0, np.max(equ)])\n",
    "\n",
    "plt.subplot(2, 2, 3)\n",
    "plt.imshow(cv2.cvtColor(image_cut, cv2.COLOR_BGR2RGB))\n",
    "plt.subplot(2, 2, 4)\n",
    "plt.imshow(cv2.cvtColor(equ, cv2.COLOR_BGR2RGB))\n",
    "plt.show()\n"
   ],
   "metadata": {
    "collapsed": false
   }
  },
  {
   "cell_type": "code",
   "execution_count": null,
   "outputs": [],
   "source": [
    "from location.LineCluster import find_barcode_by_cluster, draw_clusters\n",
    "\n",
    "clusters = find_barcode_by_cluster(equ,100)\n",
    "image_drawed = draw_clusters(equ, clusters)\n",
    "plt.figure(dpi=300)\n",
    "plt.imshow(cv2.cvtColor(image_drawed, cv2.COLOR_BGR2RGB))\n",
    "plt.show()"
   ],
   "metadata": {
    "collapsed": false
   }
  },
  {
   "cell_type": "code",
   "execution_count": null,
   "outputs": [],
   "source": [
    "# Adaptive histogram equalization:\n",
    "# Load the image\n",
    "path = r'D:\\Fenkx\\Fenkx - General\\AI\\Dataset\\BarCode\\My Datasets\\Test_Label\\C1'\n",
    "for index, item in enumerate(os.listdir(path)):\n",
    "\tfile = os.path.join(path, item)\n",
    "\tif os.path.isfile(file):\n",
    "\t\timage_source = cv2.imdecode(np.fromfile(file, dtype=np.uint8), 1)\n",
    "\t\ttry:\n",
    "\t\t\timage_pydown = pyr_down(image_source)\n",
    "\t\t\timage_cut = hist_cut(image_pydown[-1], 750)\n",
    "\t\t\tgamma = np.log(255) / np.log(np.max(image_cut))\n",
    "\t\t\tequ = np.power(image_cut, gamma).astype(np.uint8)\n",
    "\t\tfinally:\n",
    "\t\t\tfilename = os.path.splitext(item)\n",
    "\t\t\tnew_name = filename[0] + filename[-1]\n",
    "\t\t\tresult_path = os.path.join(path, 'image_equ')\n",
    "\t\t\tif not os.path.exists(result_path):\n",
    "\t\t\t\tos.makedirs(result_path)\n",
    "\t\t\tcv2.imwrite(os.path.join(result_path, new_name), image_cut)\n",
    "print('finished!')\n"
   ],
   "metadata": {
    "collapsed": false
   }
  }
 ],
 "metadata": {
  "kernelspec": {
   "display_name": "Python 3",
   "language": "python",
   "name": "python3"
  },
  "language_info": {
   "codemirror_mode": {
    "name": "ipython",
    "version": 2
   },
   "file_extension": ".py",
   "mimetype": "text/x-python",
   "name": "python",
   "nbconvert_exporter": "python",
   "pygments_lexer": "ipython2",
   "version": "2.7.6"
  }
 },
 "nbformat": 4,
 "nbformat_minor": 0
}
